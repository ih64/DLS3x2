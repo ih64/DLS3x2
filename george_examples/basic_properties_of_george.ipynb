{
 "cells": [
  {
   "cell_type": "code",
   "execution_count": 136,
   "metadata": {
    "collapsed": false
   },
   "outputs": [],
   "source": [
    "%matplotlib inline\n",
    "from __future__ import division, print_function\n",
    "import george \n",
    "from george import kernels\n",
    "import numpy as np "
   ]
  },
  {
   "cell_type": "markdown",
   "metadata": {},
   "source": [
    "## testing the parametrization of the exponent squared kernel"
   ]
  },
  {
   "cell_type": "markdown",
   "metadata": {},
   "source": [
    "The  kernel should give:\n",
    "\n",
    "\\begin{equation}\n",
    "k(a^2, \\tau; r_{ij}) = a^2  \\exp(-r_{ij}^2 / 2\\tau)\n",
    "\\end{equation}\n",
    "\n",
    "\\begin{equation}\n",
    "C_{ij} = \\sigma_n^2 \\delta_{ij} + k(a^2, \\tau; r_{ij})\n",
    "\\end{equation}"
   ]
  },
  {
   "cell_type": "markdown",
   "metadata": {},
   "source": [
    "where $r_{ij}$ is the distance matrix"
   ]
  },
  {
   "cell_type": "code",
   "execution_count": 137,
   "metadata": {
    "collapsed": false
   },
   "outputs": [],
   "source": [
    "param = [0.1, 2]\n",
    "sigma_n = 0.1 "
   ]
  },
  {
   "cell_type": "code",
   "execution_count": 138,
   "metadata": {
    "collapsed": false
   },
   "outputs": [],
   "source": [
    "gp = george.GP(param[0] * kernels.ExpSquaredKernel(param[1]))"
   ]
  },
  {
   "cell_type": "markdown",
   "metadata": {},
   "source": [
    "## If we sample data at the following locations "
   ]
  },
  {
   "cell_type": "code",
   "execution_count": 151,
   "metadata": {
    "collapsed": false
   },
   "outputs": [],
   "source": [
    "x_pos = np.arange(-2, 3)"
   ]
  },
  {
   "cell_type": "code",
   "execution_count": 152,
   "metadata": {
    "collapsed": false
   },
   "outputs": [
    {
     "data": {
      "text/plain": [
       "array([-2, -1,  0,  1,  2])"
      ]
     },
     "execution_count": 152,
     "metadata": {},
     "output_type": "execute_result"
    }
   ],
   "source": [
    "x_pos"
   ]
  },
  {
   "cell_type": "markdown",
   "metadata": {},
   "source": [
    "The expected covariance matrix $C$ should be: "
   ]
  },
  {
   "cell_type": "code",
   "execution_count": 153,
   "metadata": {
    "collapsed": false
   },
   "outputs": [
    {
     "name": "stdout",
     "output_type": "stream",
     "text": [
      "[[ 0  1  4  9 16]\n",
      " [ 1  0  1  4  9]\n",
      " [ 4  1  0  1  4]\n",
      " [ 9  4  1  0  1]\n",
      " [16  9  4  1  0]]\n"
     ]
    }
   ],
   "source": [
    "r = np.matrix(\n",
    "    [[(x_pos[i] - x_pos[j]) * (x_pos[i] - x_pos[j])     \n",
    "     for i in range(x_pos.size)]\n",
    "     for j in range(x_pos.size)])\n",
    "print(r)"
   ]
  },
  {
   "cell_type": "code",
   "execution_count": 165,
   "metadata": {
    "collapsed": false
   },
   "outputs": [],
   "source": [
    "C = param[0] * np.exp(- r / (2. * param[1]) ) + sigma_n ** 2  * np.eye(x_pos.size)"
   ]
  },
  {
   "cell_type": "code",
   "execution_count": 166,
   "metadata": {
    "collapsed": false
   },
   "outputs": [
    {
     "data": {
      "text/plain": [
       "matrix([[ 0.11      ,  0.07788008,  0.03678794,  0.01053992,  0.00183156],\n",
       "        [ 0.07788008,  0.11      ,  0.07788008,  0.03678794,  0.01053992],\n",
       "        [ 0.03678794,  0.07788008,  0.11      ,  0.07788008,  0.03678794],\n",
       "        [ 0.01053992,  0.03678794,  0.07788008,  0.11      ,  0.07788008],\n",
       "        [ 0.00183156,  0.01053992,  0.03678794,  0.07788008,  0.11      ]])"
      ]
     },
     "execution_count": 166,
     "metadata": {},
     "output_type": "execute_result"
    }
   ],
   "source": [
    "C"
   ]
  },
  {
   "cell_type": "markdown",
   "metadata": {},
   "source": [
    "this is the step to initiate the $\\sigma_n$ term in the GP kernel"
   ]
  },
  {
   "cell_type": "code",
   "execution_count": 178,
   "metadata": {
    "collapsed": false
   },
   "outputs": [
    {
     "data": {
      "text/plain": [
       "array([[ 0.1       ,  0.07788008,  0.03678794,  0.01053992,  0.00183156],\n",
       "       [ 0.07788008,  0.1       ,  0.07788008,  0.03678794,  0.01053992],\n",
       "       [ 0.03678794,  0.07788008,  0.1       ,  0.07788008,  0.03678794],\n",
       "       [ 0.01053992,  0.03678794,  0.07788008,  0.1       ,  0.07788008],\n",
       "       [ 0.00183156,  0.01053992,  0.03678794,  0.07788008,  0.1       ]])"
      ]
     },
     "execution_count": 178,
     "metadata": {},
     "output_type": "execute_result"
    }
   ],
   "source": [
    "gp.compute(x_pos, yerr=sigma_n)\n",
    "gp.get_matrix(x_pos)"
   ]
  },
  {
   "cell_type": "markdown",
   "metadata": {},
   "source": [
    "the diagonal elements do not match.\n",
    "This is due to George only adding the diagonal terms at the C++ level code. See this [code line 66](https://github.com/dfm/george/blob/master/george/basic.py#L66)"
   ]
  }
 ],
 "metadata": {
  "kernelspec": {
   "display_name": "Python 2",
   "language": "python",
   "name": "python2"
  },
  "language_info": {
   "codemirror_mode": {
    "name": "ipython",
    "version": 2
   },
   "file_extension": ".py",
   "mimetype": "text/x-python",
   "name": "python",
   "nbconvert_exporter": "python",
   "pygments_lexer": "ipython2",
   "version": "2.7.10"
  }
 },
 "nbformat": 4,
 "nbformat_minor": 0
}
