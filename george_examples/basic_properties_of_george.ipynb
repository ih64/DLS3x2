{
 "metadata": {
  "name": "",
  "signature": "sha256:e3d4f6930941dcf3d3f11f1faea3e1bc8c3e99092a09153e635129231c117fdd"
 },
 "nbformat": 3,
 "nbformat_minor": 0,
 "worksheets": [
  {
   "cells": [
    {
     "cell_type": "code",
     "collapsed": false,
     "input": [
      "%matplotlib inline\n",
      "from __future__ import division, print_function\n",
      "import george \n",
      "from george import kernels\n",
      "import numpy as np "
     ],
     "language": "python",
     "metadata": {},
     "outputs": [],
     "prompt_number": 136
    },
    {
     "cell_type": "markdown",
     "metadata": {},
     "source": [
      "## testing the parametrization of the exponent squared kernel"
     ]
    },
    {
     "cell_type": "markdown",
     "metadata": {},
     "source": [
      "The  kernel should give:\n",
      "\n",
      "\\begin{equation}\n",
      "k(a^2, \\tau; r_{ij}) = a^2  \\exp(-r_{ij}^2 / 2\\tau)\n",
      "\\end{equation}\n",
      "\n",
      "\\begin{equation}\n",
      "C_{ij} = \\sigma_n^2 \\delta_{ij} + k(a^2, \\tau; r_i, r_j)\n",
      "\\end{equation}"
     ]
    },
    {
     "cell_type": "code",
     "collapsed": false,
     "input": [
      "param = [0.1, 2]\n",
      "sigma_n = 0.1 "
     ],
     "language": "python",
     "metadata": {},
     "outputs": [],
     "prompt_number": 137
    },
    {
     "cell_type": "code",
     "collapsed": false,
     "input": [
      "gp = george.GP(param[0] * kernels.ExpSquaredKernel(param[1]))"
     ],
     "language": "python",
     "metadata": {},
     "outputs": [],
     "prompt_number": 138
    },
    {
     "cell_type": "heading",
     "level": 2,
     "metadata": {},
     "source": [
      "If we sample data at the following locations "
     ]
    },
    {
     "cell_type": "code",
     "collapsed": false,
     "input": [
      "x_pos = np.arange(-2, 3)"
     ],
     "language": "python",
     "metadata": {},
     "outputs": [],
     "prompt_number": 151
    },
    {
     "cell_type": "code",
     "collapsed": false,
     "input": [
      "x_pos"
     ],
     "language": "python",
     "metadata": {},
     "outputs": [
      {
       "metadata": {},
       "output_type": "pyout",
       "prompt_number": 152,
       "text": [
        "array([-2, -1,  0,  1,  2])"
       ]
      }
     ],
     "prompt_number": 152
    },
    {
     "cell_type": "markdown",
     "metadata": {},
     "source": [
      "The expected covariance matrix $C$ should be: "
     ]
    },
    {
     "cell_type": "code",
     "collapsed": false,
     "input": [
      "r = np.matrix(\n",
      "    [[(x_pos[i] - x_pos[j]) * (x_pos[i] - x_pos[j])     \n",
      "     for i in range(x_pos.size)]\n",
      "     for j in range(x_pos.size)])\n",
      "print(r)"
     ],
     "language": "python",
     "metadata": {},
     "outputs": [
      {
       "output_type": "stream",
       "stream": "stdout",
       "text": [
        "[[ 0  1  4  9 16]\n",
        " [ 1  0  1  4  9]\n",
        " [ 4  1  0  1  4]\n",
        " [ 9  4  1  0  1]\n",
        " [16  9  4  1  0]]\n"
       ]
      }
     ],
     "prompt_number": 153
    },
    {
     "cell_type": "code",
     "collapsed": false,
     "input": [
      "C = param[0] * np.exp(- r / (2. * param[1]) ) + sigma_n ** 2  * np.eye(x_pos.size)"
     ],
     "language": "python",
     "metadata": {},
     "outputs": [],
     "prompt_number": 165
    },
    {
     "cell_type": "code",
     "collapsed": false,
     "input": [
      "C"
     ],
     "language": "python",
     "metadata": {},
     "outputs": [
      {
       "metadata": {},
       "output_type": "pyout",
       "prompt_number": 166,
       "text": [
        "matrix([[ 0.11      ,  0.07788008,  0.03678794,  0.01053992,  0.00183156],\n",
        "        [ 0.07788008,  0.11      ,  0.07788008,  0.03678794,  0.01053992],\n",
        "        [ 0.03678794,  0.07788008,  0.11      ,  0.07788008,  0.03678794],\n",
        "        [ 0.01053992,  0.03678794,  0.07788008,  0.11      ,  0.07788008],\n",
        "        [ 0.00183156,  0.01053992,  0.03678794,  0.07788008,  0.11      ]])"
       ]
      }
     ],
     "prompt_number": 166
    },
    {
     "cell_type": "markdown",
     "metadata": {},
     "source": [
      "this is the step to initiate the $\\sigma_n$ term in the GP kernel"
     ]
    },
    {
     "cell_type": "code",
     "collapsed": false,
     "input": [
      "gp.compute(x_pos, yerr=sigma_n)\n",
      "gp.get_matrix(x_pos)"
     ],
     "language": "python",
     "metadata": {},
     "outputs": [
      {
       "metadata": {},
       "output_type": "pyout",
       "prompt_number": 178,
       "text": [
        "array([[ 0.1       ,  0.07788008,  0.03678794,  0.01053992,  0.00183156],\n",
        "       [ 0.07788008,  0.1       ,  0.07788008,  0.03678794,  0.01053992],\n",
        "       [ 0.03678794,  0.07788008,  0.1       ,  0.07788008,  0.03678794],\n",
        "       [ 0.01053992,  0.03678794,  0.07788008,  0.1       ,  0.07788008],\n",
        "       [ 0.00183156,  0.01053992,  0.03678794,  0.07788008,  0.1       ]])"
       ]
      }
     ],
     "prompt_number": 178
    }
   ],
   "metadata": {}
  }
 ]
}